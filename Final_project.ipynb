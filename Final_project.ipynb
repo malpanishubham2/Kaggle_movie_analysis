{
 "cells": [
  {
   "cell_type": "code",
   "execution_count": 25,
   "metadata": {},
   "outputs": [],
   "source": [
    "#library import\n",
    "import numpy as np\n",
    "import pandas as pd\n",
    "import matplotlib.pyplot as plt\n",
    "import seaborn as sns\n",
    "sns.set()\n",
    "%matplotlib notebook\n",
    "import nltk\n",
    "from nltk.tokenize import RegexpTokenizer\n",
    "from nltk.tokenize import RegexpTokenizer\n",
    "from nltk.corpus import stopwords\n",
    "from nltk.collocations import *\n",
    "from nltk.metrics import ConfusionMatrix\n",
    "from nltk.tokenize import word_tokenize\n",
    "from nltk.stem import WordNetLemmatizer\n",
    "from nltk import flatten\n",
    "from nltk import FreqDist\n",
    "import re\n",
    "from tqdm import tqdm\n",
    "from sklearn.model_selection import train_test_split\n",
    "from sklearn.feature_extraction.text import TfidfVectorizer\n",
    "from sklearn.feature_extraction.text import TfidfTransformer\n",
    "from sklearn.feature_extraction.text import CountVectorizer\n",
    "from sklearn import svm\n",
    "from sklearn.naive_bayes import MultinomialNB\n",
    "from sklearn.metrics import roc_auc_score\n",
    "from sklearn.pipeline import Pipeline\n",
    "from sklearn.metrics import classification_report\n",
    "from sklearn.metrics import accuracy_score\n",
    "from sklearn.linear_model import SGDClassifier\n",
    "from sklearn.tree import DecisionTreeClassifier"
   ]
  },
  {
   "cell_type": "code",
   "execution_count": 2,
   "metadata": {},
   "outputs": [],
   "source": [
    "test_df = pd.read_csv('test.tsv', sep='\\t') #importing the test frame\n",
    "train_df = pd.read_csv('train.tsv', sep = '\\t') #importing the train frame"
   ]
  },
  {
   "cell_type": "code",
   "execution_count": 3,
   "metadata": {},
   "outputs": [
    {
     "data": {
      "text/html": [
       "<div>\n",
       "<style scoped>\n",
       "    .dataframe tbody tr th:only-of-type {\n",
       "        vertical-align: middle;\n",
       "    }\n",
       "\n",
       "    .dataframe tbody tr th {\n",
       "        vertical-align: top;\n",
       "    }\n",
       "\n",
       "    .dataframe thead th {\n",
       "        text-align: right;\n",
       "    }\n",
       "</style>\n",
       "<table border=\"1\" class=\"dataframe\">\n",
       "  <thead>\n",
       "    <tr style=\"text-align: right;\">\n",
       "      <th></th>\n",
       "      <th>PhraseId</th>\n",
       "      <th>SentenceId</th>\n",
       "      <th>Phrase</th>\n",
       "      <th>Sentiment</th>\n",
       "    </tr>\n",
       "  </thead>\n",
       "  <tbody>\n",
       "    <tr>\n",
       "      <th>0</th>\n",
       "      <td>1</td>\n",
       "      <td>1</td>\n",
       "      <td>A series of escapades demonstrating the adage ...</td>\n",
       "      <td>1</td>\n",
       "    </tr>\n",
       "    <tr>\n",
       "      <th>1</th>\n",
       "      <td>2</td>\n",
       "      <td>1</td>\n",
       "      <td>A series of escapades demonstrating the adage ...</td>\n",
       "      <td>2</td>\n",
       "    </tr>\n",
       "    <tr>\n",
       "      <th>2</th>\n",
       "      <td>3</td>\n",
       "      <td>1</td>\n",
       "      <td>A series</td>\n",
       "      <td>2</td>\n",
       "    </tr>\n",
       "    <tr>\n",
       "      <th>3</th>\n",
       "      <td>4</td>\n",
       "      <td>1</td>\n",
       "      <td>A</td>\n",
       "      <td>2</td>\n",
       "    </tr>\n",
       "    <tr>\n",
       "      <th>4</th>\n",
       "      <td>5</td>\n",
       "      <td>1</td>\n",
       "      <td>series</td>\n",
       "      <td>2</td>\n",
       "    </tr>\n",
       "    <tr>\n",
       "      <th>5</th>\n",
       "      <td>6</td>\n",
       "      <td>1</td>\n",
       "      <td>of escapades demonstrating the adage that what...</td>\n",
       "      <td>2</td>\n",
       "    </tr>\n",
       "    <tr>\n",
       "      <th>6</th>\n",
       "      <td>7</td>\n",
       "      <td>1</td>\n",
       "      <td>of</td>\n",
       "      <td>2</td>\n",
       "    </tr>\n",
       "    <tr>\n",
       "      <th>7</th>\n",
       "      <td>8</td>\n",
       "      <td>1</td>\n",
       "      <td>escapades demonstrating the adage that what is...</td>\n",
       "      <td>2</td>\n",
       "    </tr>\n",
       "    <tr>\n",
       "      <th>8</th>\n",
       "      <td>9</td>\n",
       "      <td>1</td>\n",
       "      <td>escapades</td>\n",
       "      <td>2</td>\n",
       "    </tr>\n",
       "    <tr>\n",
       "      <th>9</th>\n",
       "      <td>10</td>\n",
       "      <td>1</td>\n",
       "      <td>demonstrating the adage that what is good for ...</td>\n",
       "      <td>2</td>\n",
       "    </tr>\n",
       "  </tbody>\n",
       "</table>\n",
       "</div>"
      ],
      "text/plain": [
       "   PhraseId  SentenceId                                             Phrase  \\\n",
       "0         1           1  A series of escapades demonstrating the adage ...   \n",
       "1         2           1  A series of escapades demonstrating the adage ...   \n",
       "2         3           1                                           A series   \n",
       "3         4           1                                                  A   \n",
       "4         5           1                                             series   \n",
       "5         6           1  of escapades demonstrating the adage that what...   \n",
       "6         7           1                                                 of   \n",
       "7         8           1  escapades demonstrating the adage that what is...   \n",
       "8         9           1                                          escapades   \n",
       "9        10           1  demonstrating the adage that what is good for ...   \n",
       "\n",
       "   Sentiment  \n",
       "0          1  \n",
       "1          2  \n",
       "2          2  \n",
       "3          2  \n",
       "4          2  \n",
       "5          2  \n",
       "6          2  \n",
       "7          2  \n",
       "8          2  \n",
       "9          2  "
      ]
     },
     "execution_count": 3,
     "metadata": {},
     "output_type": "execute_result"
    }
   ],
   "source": [
    "train_df.head(10) #looking at the first 10 rows of the training dataset"
   ]
  },
  {
   "cell_type": "code",
   "execution_count": 4,
   "metadata": {},
   "outputs": [
    {
     "name": "stdout",
     "output_type": "stream",
     "text": [
      "<class 'pandas.core.frame.DataFrame'>\n",
      "RangeIndex: 156060 entries, 0 to 156059\n",
      "Data columns (total 4 columns):\n",
      " #   Column      Non-Null Count   Dtype \n",
      "---  ------      --------------   ----- \n",
      " 0   PhraseId    156060 non-null  int64 \n",
      " 1   SentenceId  156060 non-null  int64 \n",
      " 2   Phrase      156060 non-null  object\n",
      " 3   Sentiment   156060 non-null  int64 \n",
      "dtypes: int64(3), object(1)\n",
      "memory usage: 4.8+ MB\n"
     ]
    }
   ],
   "source": [
    "train_df.info() #glancing throguh the info about the fram like the columns, their data types etc"
   ]
  },
  {
   "cell_type": "code",
   "execution_count": 5,
   "metadata": {},
   "outputs": [
    {
     "data": {
      "text/plain": [
       "2    79582\n",
       "3    32927\n",
       "1    27273\n",
       "4     9206\n",
       "0     7072\n",
       "Name: Sentiment, dtype: int64"
      ]
     },
     "execution_count": 5,
     "metadata": {},
     "output_type": "execute_result"
    }
   ],
   "source": [
    "train_df['Sentiment'].value_counts() #now as we have to predict the sentiment value, giving a good look at the count of each of the sentiment"
   ]
  },
  {
   "cell_type": "code",
   "execution_count": 6,
   "metadata": {},
   "outputs": [
    {
     "name": "stderr",
     "output_type": "stream",
     "text": [
      "No handles with labels found to put in legend.\n"
     ]
    },
    {
     "data": {
      "image/png": "[encoded data removed]",
      "text/plain": [
       "<Figure size 648x432 with 1 Axes>"
      ]
     },
     "metadata": {
      "needs_background": "light"
     },
     "output_type": "display_data"
    }
   ],
   "source": [
    "#lets look at the distribution of the sentiment over the train data\n",
    "plt.figure(figsize = [9,6])\n",
    "sns.countplot(x=\"Sentiment\", data=train_df)\n",
    "plt.title('Sentiment distribution')\n",
    "plt.ylabel('Total')\n",
    "plt.xlabel('Sentiment Number')\n",
    "plt.legend()\n",
    "plt.show();"
   ]
  },
  {
   "cell_type": "code",
   "execution_count": 7,
   "metadata": {},
   "outputs": [
    {
     "data": {
      "text/html": [
       "<div>\n",
       "<style scoped>\n",
       "    .dataframe tbody tr th:only-of-type {\n",
       "        vertical-align: middle;\n",
       "    }\n",
       "\n",
       "    .dataframe tbody tr th {\n",
       "        vertical-align: top;\n",
       "    }\n",
       "\n",
       "    .dataframe thead th {\n",
       "        text-align: right;\n",
       "    }\n",
       "</style>\n",
       "<table border=\"1\" class=\"dataframe\">\n",
       "  <thead>\n",
       "    <tr style=\"text-align: right;\">\n",
       "      <th></th>\n",
       "      <th>PhraseId</th>\n",
       "      <th>SentenceId</th>\n",
       "      <th>Phrase</th>\n",
       "    </tr>\n",
       "  </thead>\n",
       "  <tbody>\n",
       "    <tr>\n",
       "      <th>0</th>\n",
       "      <td>156061</td>\n",
       "      <td>8545</td>\n",
       "      <td>An intermittently pleasing but mostly routine ...</td>\n",
       "    </tr>\n",
       "    <tr>\n",
       "      <th>1</th>\n",
       "      <td>156062</td>\n",
       "      <td>8545</td>\n",
       "      <td>An intermittently pleasing but mostly routine ...</td>\n",
       "    </tr>\n",
       "    <tr>\n",
       "      <th>2</th>\n",
       "      <td>156063</td>\n",
       "      <td>8545</td>\n",
       "      <td>An</td>\n",
       "    </tr>\n",
       "    <tr>\n",
       "      <th>3</th>\n",
       "      <td>156064</td>\n",
       "      <td>8545</td>\n",
       "      <td>intermittently pleasing but mostly routine effort</td>\n",
       "    </tr>\n",
       "    <tr>\n",
       "      <th>4</th>\n",
       "      <td>156065</td>\n",
       "      <td>8545</td>\n",
       "      <td>intermittently pleasing but mostly routine</td>\n",
       "    </tr>\n",
       "    <tr>\n",
       "      <th>5</th>\n",
       "      <td>156066</td>\n",
       "      <td>8545</td>\n",
       "      <td>intermittently pleasing but</td>\n",
       "    </tr>\n",
       "    <tr>\n",
       "      <th>6</th>\n",
       "      <td>156067</td>\n",
       "      <td>8545</td>\n",
       "      <td>intermittently pleasing</td>\n",
       "    </tr>\n",
       "    <tr>\n",
       "      <th>7</th>\n",
       "      <td>156068</td>\n",
       "      <td>8545</td>\n",
       "      <td>intermittently</td>\n",
       "    </tr>\n",
       "    <tr>\n",
       "      <th>8</th>\n",
       "      <td>156069</td>\n",
       "      <td>8545</td>\n",
       "      <td>pleasing</td>\n",
       "    </tr>\n",
       "    <tr>\n",
       "      <th>9</th>\n",
       "      <td>156070</td>\n",
       "      <td>8545</td>\n",
       "      <td>but</td>\n",
       "    </tr>\n",
       "  </tbody>\n",
       "</table>\n",
       "</div>"
      ],
      "text/plain": [
       "   PhraseId  SentenceId                                             Phrase\n",
       "0    156061        8545  An intermittently pleasing but mostly routine ...\n",
       "1    156062        8545  An intermittently pleasing but mostly routine ...\n",
       "2    156063        8545                                                 An\n",
       "3    156064        8545  intermittently pleasing but mostly routine effort\n",
       "4    156065        8545         intermittently pleasing but mostly routine\n",
       "5    156066        8545                        intermittently pleasing but\n",
       "6    156067        8545                            intermittently pleasing\n",
       "7    156068        8545                                     intermittently\n",
       "8    156069        8545                                           pleasing\n",
       "9    156070        8545                                                but"
      ]
     },
     "execution_count": 7,
     "metadata": {},
     "output_type": "execute_result"
    }
   ],
   "source": [
    "test_df.head(10) #repeating the above proess with the test dataset"
   ]
  },
  {
   "cell_type": "code",
   "execution_count": 8,
   "metadata": {},
   "outputs": [
    {
     "name": "stdout",
     "output_type": "stream",
     "text": [
      "<class 'pandas.core.frame.DataFrame'>\n",
      "RangeIndex: 66292 entries, 0 to 66291\n",
      "Data columns (total 3 columns):\n",
      " #   Column      Non-Null Count  Dtype \n",
      "---  ------      --------------  ----- \n",
      " 0   PhraseId    66292 non-null  int64 \n",
      " 1   SentenceId  66292 non-null  int64 \n",
      " 2   Phrase      66292 non-null  object\n",
      "dtypes: int64(2), object(1)\n",
      "memory usage: 1.5+ MB\n"
     ]
    }
   ],
   "source": [
    "test_df.info()"
   ]
  },
  {
   "cell_type": "code",
   "execution_count": 79,
   "metadata": {},
   "outputs": [],
   "source": [
    "stopwords = nltk.corpus.stopwords.words('english') #defining the stopwords variable \n",
    "newstopwords = [word for word in stopwords if word not in ['not', 'no', 'can','don', 't','n']] #adding a few more that werent there"
   ]
  },
  {
   "cell_type": "code",
   "execution_count": 73,
   "metadata": {},
   "outputs": [],
   "source": [
    "#the below created function is used to pre process the data especially focusing on the phrase column of the frame\n",
    "def sentence_cleaning(df):\n",
    "    sentence = []\n",
    "    for sent in tqdm(df['Phrase']):\n",
    "        text = re.sub(\"[^a-zA-Z]\",\" \",sent.lower())\n",
    "        word = word_tokenize(text.lower())\n",
    "        new_words = [ ele for ele in word if ele.lower() not in newstopwords ]\n",
    "        lemmatizer = WordNetLemmatizer()\n",
    "        lemm_word = [lemmatizer.lemmatize(i) for i in new_words]\n",
    "        sentence.append(lemm_word)\n",
    "    return (sentence)"
   ]
  },
  {
   "cell_type": "code",
   "execution_count": 11,
   "metadata": {},
   "outputs": [
    {
     "name": "stderr",
     "output_type": "stream",
     "text": [
      "100%|██████████| 156060/156060 [00:29<00:00, 5309.88it/s]\n"
     ]
    }
   ],
   "source": [
    "train_sentence = sentence_cleaning(train_df) #creating a different list by running the function"
   ]
  },
  {
   "cell_type": "code",
   "execution_count": 12,
   "metadata": {},
   "outputs": [
    {
     "name": "stderr",
     "output_type": "stream",
     "text": [
      "100%|██████████| 156060/156060 [00:25<00:00, 6062.52it/s]\n"
     ]
    }
   ],
   "source": [
    "train_df['Phrase'] = sentence_cleaning(train_df) #now just also applying it on the column inside the frame"
   ]
  },
  {
   "cell_type": "code",
   "execution_count": 13,
   "metadata": {},
   "outputs": [],
   "source": [
    "train_df_copy = train_df #copying the train_df frame into another frame so that we dont mess up with the orignal frame\n",
    "train_df_copy"
   ]
  },
  {
   "cell_type": "code",
   "execution_count": 80,
   "metadata": {
    "scrolled": true
   },
   "outputs": [],
   "source": [
    "#top 200 most repeated words in the list\n",
    "flattened_list = flatten(train_sentence)\n",
    "def repeated_topwords(wordlist):\n",
    "    wordlist = nltk.FreqDist(wordlist)\n",
    "    word_features = [w for (w, c) in wordlist.most_common(200)] \n",
    "    return word_features "
   ]
  },
  {
   "cell_type": "code",
   "execution_count": 81,
   "metadata": {},
   "outputs": [
    {
     "name": "stdout",
     "output_type": "stream",
     "text": [
      "['film', 'movie', 't', 'n', 'one', 'not', 'like', 'character', 'story', 'time', 'rrb', 'make', 'good', 'lrb', 'life', 'comedy', 'no', 'much', 'way', 'can', 'work', 'even', 'little', 'funny', 'well', 'performance', 'director', 'love', 'year', 'feel', 'new', 'bad', 'u', 'enough', 'get', 'action', 'thing', 'made', 'old', 'audience', 'two', 'something', 'minute', 'would', 'best', 'look', 'never', 'many', 'people', 'come', 'see', 'self', 'plot', 'drama', 'world', 'take', 'first', 'may', 'could', 'better', 'long', 'go', 'big', 'sense', 'really', 'man', 'give', 'moment', 'actor', 'without', 'real', 'great', 'screen', 'every', 'humor', 'end', 'ever', 'family', 'scene', 'another', 'woman', 'american', 'heart', 'picture', 'cast', 'hollywood', 'human', 'still', 'hour', 'fun', 'le', 'nothing', 'hard', 'kid', 'kind', 'script', 'often', 'might', 'show', 'far', 'find', 'star', 'lot', 'war', 'acting', 'laugh', 'also', 'seen', 'thriller', 'back', 'interesting', 'original', 'day', 'rather', 'idea', 'watch', 'young', 'right', 'point', 'keep', 'almost', 'full', 'emotional', 'tale', 'entertaining', 'material', 'subject', 'cinema', 'want', 'documentary', 'filmmaker', 'dialogue', 'music', 'flick', 'style', 'place', 'need', 'know', 'piece', 'quite', 'romantic', 'half', 'yet', 'art', 'watching', 'bit', 'high', 'making', 'going', 'turn', 'fan', 'video', 'think', 'special', 'set', 'comic', 'play', 'worth', 'seems', 'girl', 'dark', 'child', 'ca', 'last', 'though', 'experience', 'feature', 'history', 'care', 'age', 'writer', 'seem', 'three', 'anything', 'part', 'compelling', 'say', 'least', 'eye', 'theater', 'viewer', 'lack', 'visual', 'around', 'ultimately', 'genre', 'together', 'effect', 'direction', 'culture', 'sometimes', 'entertainment', 'matter', 'face', 'power', 'sweet', 'true', 'offer', 'familiar', 'low']\n"
     ]
    }
   ],
   "source": [
    "#applying the feature and printing it\n",
    "features = repeated_topwords(flattened_list)\n",
    "print(features)"
   ]
  },
  {
   "cell_type": "code",
   "execution_count": 17,
   "metadata": {},
   "outputs": [],
   "source": [
    "#creating unigram\n",
    "def unigram_features(document, word_features):\n",
    "    document_words = set(document)\n",
    "    features = {}\n",
    "    for word in word_features:\n",
    "        features['contains({})'.format(word)] = (word in document_words)\n",
    "    return features"
   ]
  },
  {
   "cell_type": "code",
   "execution_count": 18,
   "metadata": {},
   "outputs": [
    {
     "name": "stdout",
     "output_type": "stream",
     "text": [
      "{'contains(film)': True, 'contains(movie)': True, 'contains(t)': True, 'contains(n)': True, 'contains(one)': True, 'contains(not)': True, 'contains(like)': True, 'contains(character)': True, 'contains(story)': True, 'contains(time)': True, 'contains(rrb)': True, 'contains(make)': True, 'contains(good)': True, 'contains(lrb)': True, 'contains(life)': True, 'contains(comedy)': True, 'contains(no)': True, 'contains(much)': True, 'contains(way)': True, 'contains(can)': True, 'contains(work)': True, 'contains(even)': True, 'contains(little)': True, 'contains(funny)': True, 'contains(well)': True, 'contains(performance)': True, 'contains(director)': True, 'contains(love)': True, 'contains(year)': True, 'contains(feel)': True, 'contains(new)': True, 'contains(bad)': True, 'contains(u)': True, 'contains(enough)': True, 'contains(get)': True, 'contains(action)': True, 'contains(thing)': True, 'contains(made)': True, 'contains(old)': True, 'contains(audience)': True, 'contains(two)': True, 'contains(something)': True, 'contains(minute)': True, 'contains(would)': True, 'contains(best)': True, 'contains(look)': True, 'contains(never)': True, 'contains(many)': True, 'contains(people)': True, 'contains(come)': True, 'contains(see)': True, 'contains(self)': True, 'contains(plot)': True, 'contains(drama)': True, 'contains(world)': True, 'contains(take)': True, 'contains(first)': True, 'contains(may)': True, 'contains(could)': True, 'contains(better)': True, 'contains(long)': True, 'contains(go)': True, 'contains(big)': True, 'contains(sense)': True, 'contains(really)': True, 'contains(man)': True, 'contains(give)': True, 'contains(moment)': True, 'contains(actor)': True, 'contains(without)': True, 'contains(real)': True, 'contains(great)': True, 'contains(screen)': True, 'contains(every)': True, 'contains(humor)': True, 'contains(end)': True, 'contains(ever)': True, 'contains(family)': True, 'contains(scene)': True, 'contains(another)': True, 'contains(woman)': True, 'contains(american)': True, 'contains(heart)': True, 'contains(picture)': True, 'contains(cast)': True, 'contains(hollywood)': True, 'contains(human)': True, 'contains(still)': True, 'contains(hour)': True, 'contains(fun)': True, 'contains(le)': True, 'contains(nothing)': True, 'contains(hard)': True, 'contains(kid)': True, 'contains(kind)': True, 'contains(script)': True, 'contains(often)': True, 'contains(might)': True, 'contains(show)': True, 'contains(far)': True, 'contains(find)': True, 'contains(star)': True, 'contains(lot)': True, 'contains(war)': True, 'contains(acting)': True, 'contains(laugh)': True, 'contains(also)': True, 'contains(seen)': True, 'contains(thriller)': True, 'contains(back)': True, 'contains(interesting)': True, 'contains(original)': True, 'contains(day)': True, 'contains(rather)': True, 'contains(idea)': True, 'contains(watch)': True, 'contains(young)': True, 'contains(right)': True, 'contains(point)': True, 'contains(keep)': True, 'contains(almost)': True, 'contains(full)': True, 'contains(emotional)': True, 'contains(tale)': True, 'contains(entertaining)': True, 'contains(material)': True, 'contains(subject)': True, 'contains(cinema)': True, 'contains(want)': True, 'contains(documentary)': True, 'contains(filmmaker)': True, 'contains(dialogue)': True, 'contains(music)': True, 'contains(flick)': True, 'contains(style)': True, 'contains(place)': True, 'contains(need)': True, 'contains(know)': True, 'contains(piece)': True, 'contains(quite)': True, 'contains(romantic)': True, 'contains(half)': True, 'contains(yet)': True, 'contains(art)': True, 'contains(watching)': True, 'contains(bit)': True, 'contains(high)': True, 'contains(making)': True, 'contains(going)': True, 'contains(turn)': True, 'contains(fan)': True, 'contains(video)': True, 'contains(think)': True, 'contains(special)': True, 'contains(set)': True, 'contains(comic)': True, 'contains(play)': True, 'contains(worth)': True, 'contains(seems)': True, 'contains(girl)': True, 'contains(dark)': True, 'contains(child)': True, 'contains(ca)': True, 'contains(last)': True, 'contains(though)': True, 'contains(experience)': True, 'contains(feature)': True, 'contains(history)': True, 'contains(care)': True, 'contains(age)': True, 'contains(writer)': True, 'contains(seem)': True, 'contains(three)': True, 'contains(anything)': True, 'contains(part)': True, 'contains(compelling)': True, 'contains(say)': True, 'contains(least)': True, 'contains(eye)': True, 'contains(theater)': True, 'contains(viewer)': True, 'contains(lack)': True, 'contains(visual)': True, 'contains(around)': True, 'contains(ultimately)': True, 'contains(genre)': True, 'contains(together)': True, 'contains(effect)': True, 'contains(direction)': True, 'contains(culture)': True, 'contains(sometimes)': True, 'contains(entertainment)': True, 'contains(matter)': True, 'contains(face)': True, 'contains(power)': True, 'contains(sweet)': True, 'contains(true)': True, 'contains(offer)': True, 'contains(familiar)': True, 'contains(low)': True}\n"
     ]
    }
   ],
   "source": [
    "#printing the unigram\n",
    "unigrams = unigram_features(flattened_list,features)\n",
    "print(unigrams)"
   ]
  },
  {
   "cell_type": "code",
   "execution_count": 19,
   "metadata": {},
   "outputs": [],
   "source": [
    "#part of speech classifcation\n",
    "def POS_features(document, word_features):\n",
    "    document_words = set(document)\n",
    "    tagged_words = nltk.pos_tag(document)\n",
    "    features = {}\n",
    "    numNoun = 0\n",
    "    numVerb = 0\n",
    "    numAdj = 0\n",
    "    numAdverb = 0\n",
    "    for (word, tag) in tagged_words:\n",
    "        if tag.startswith('N'): numNoun += 1\n",
    "        if tag.startswith('V'): numVerb += 1\n",
    "        if tag.startswith('J'): numAdj += 1\n",
    "        if tag.startswith('R'): numAdverb += 1\n",
    "    features['nouns'] = numNoun\n",
    "    features['verbs'] = numVerb\n",
    "    features['adjectives'] = numAdj\n",
    "    features['adverbs'] = numAdverb\n",
    "    return features"
   ]
  },
  {
   "cell_type": "code",
   "execution_count": 20,
   "metadata": {
    "scrolled": true
   },
   "outputs": [
    {
     "data": {
      "text/plain": [
       "{'nouns': 297190, 'verbs': 103255, 'adjectives': 154896, 'adverbs': 54015}"
      ]
     },
     "execution_count": 20,
     "metadata": {},
     "output_type": "execute_result"
    }
   ],
   "source": [
    "#running the above created function and printing the output\n",
    "POS = POS_features(flattened_list,features)\n",
    "POS"
   ]
  },
  {
   "cell_type": "code",
   "execution_count": 21,
   "metadata": {},
   "outputs": [],
   "source": [
    "#just for the classification task we are just taking only 2 columns fro the main frame\n",
    "classdataframe = train_df_copy[['Phrase','Sentiment']]\n",
    "classdataframe"
   ]
  },
  {
   "cell_type": "code",
   "execution_count": 23,
   "metadata": {},
   "outputs": [
    {
     "data": {
      "text/html": [
       "<div>\n",
       "<style scoped>\n",
       "    .dataframe tbody tr th:only-of-type {\n",
       "        vertical-align: middle;\n",
       "    }\n",
       "\n",
       "    .dataframe tbody tr th {\n",
       "        vertical-align: top;\n",
       "    }\n",
       "\n",
       "    .dataframe thead th {\n",
       "        text-align: right;\n",
       "    }\n",
       "</style>\n",
       "<table border=\"1\" class=\"dataframe\">\n",
       "  <thead>\n",
       "    <tr style=\"text-align: right;\">\n",
       "      <th></th>\n",
       "      <th>Phrase</th>\n",
       "      <th>Sentiment</th>\n",
       "    </tr>\n",
       "  </thead>\n",
       "  <tbody>\n",
       "    <tr>\n",
       "      <th>0</th>\n",
       "      <td>[series, escapade, demonstrating, adage, good,...</td>\n",
       "      <td>1</td>\n",
       "    </tr>\n",
       "    <tr>\n",
       "      <th>1</th>\n",
       "      <td>[series, escapade, demonstrating, adage, good,...</td>\n",
       "      <td>2</td>\n",
       "    </tr>\n",
       "    <tr>\n",
       "      <th>2</th>\n",
       "      <td>[series]</td>\n",
       "      <td>2</td>\n",
       "    </tr>\n",
       "    <tr>\n",
       "      <th>3</th>\n",
       "      <td>[]</td>\n",
       "      <td>2</td>\n",
       "    </tr>\n",
       "    <tr>\n",
       "      <th>4</th>\n",
       "      <td>[series]</td>\n",
       "      <td>2</td>\n",
       "    </tr>\n",
       "    <tr>\n",
       "      <th>...</th>\n",
       "      <td>...</td>\n",
       "      <td>...</td>\n",
       "    </tr>\n",
       "    <tr>\n",
       "      <th>156055</th>\n",
       "      <td>[hearst]</td>\n",
       "      <td>2</td>\n",
       "    </tr>\n",
       "    <tr>\n",
       "      <th>156056</th>\n",
       "      <td>[forced, avuncular, chortle]</td>\n",
       "      <td>1</td>\n",
       "    </tr>\n",
       "    <tr>\n",
       "      <th>156057</th>\n",
       "      <td>[avuncular, chortle]</td>\n",
       "      <td>3</td>\n",
       "    </tr>\n",
       "    <tr>\n",
       "      <th>156058</th>\n",
       "      <td>[avuncular]</td>\n",
       "      <td>2</td>\n",
       "    </tr>\n",
       "    <tr>\n",
       "      <th>156059</th>\n",
       "      <td>[chortle]</td>\n",
       "      <td>2</td>\n",
       "    </tr>\n",
       "  </tbody>\n",
       "</table>\n",
       "<p>156060 rows × 2 columns</p>\n",
       "</div>"
      ],
      "text/plain": [
       "                                                   Phrase  Sentiment\n",
       "0       [series, escapade, demonstrating, adage, good,...          1\n",
       "1       [series, escapade, demonstrating, adage, good,...          2\n",
       "2                                                [series]          2\n",
       "3                                                      []          2\n",
       "4                                                [series]          2\n",
       "...                                                   ...        ...\n",
       "156055                                           [hearst]          2\n",
       "156056                       [forced, avuncular, chortle]          1\n",
       "156057                               [avuncular, chortle]          3\n",
       "156058                                        [avuncular]          2\n",
       "156059                                          [chortle]          2\n",
       "\n",
       "[156060 rows x 2 columns]"
      ]
     },
     "execution_count": 23,
     "metadata": {},
     "output_type": "execute_result"
    }
   ],
   "source": [
    "#what this loop does is that it removes all of the square brackets and commas from each of the phrase line\n",
    "for i in tqdm(range(len(classdataframe))):\n",
    "    classdataframe['Phrase'][i] = (\" \").join(train_df_copy['Phrase'][i])"
   ]
  },
  {
   "cell_type": "code",
   "execution_count": 58,
   "metadata": {},
   "outputs": [
    {
     "data": {
      "text/plain": [
       "0    s e r i e s   e s c a p a d e   d e m o n s t ...\n",
       "1       series escapade demonstrating adage good goose\n",
       "2                                               series\n",
       "3                                                     \n",
       "4                                               series\n",
       "Name: Phrase, dtype: object"
      ]
     },
     "execution_count": 58,
     "metadata": {},
     "output_type": "execute_result"
    }
   ],
   "source": [
    "#we are justing trying to seperate the x and the y variable and giving them better names\n",
    "phrase = classdataframe['Phrase']\n",
    "sentiment = classdataframe['Sentiment']\n",
    "phrase.head()"
   ]
  },
  {
   "cell_type": "code",
   "execution_count": 59,
   "metadata": {},
   "outputs": [],
   "source": [
    "#train and validation split, not using test here because we have a different dataframe for test\n",
    "X_train,X_val,y_train,y_val = train_test_split(\\\n",
    "    phrase,sentiment,test_size = 0.3, random_state = 60,shuffle=True, stratify=sentiment)"
   ]
  },
  {
   "cell_type": "code",
   "execution_count": 65,
   "metadata": {},
   "outputs": [
    {
     "name": "stdout",
     "output_type": "stream",
     "text": [
      "Naive Bayes Train Accuracy Score : 63.0% \n",
      "Naive Bayes Test Accuracy Score  : 58.0% \n",
      "\n",
      "              precision    recall  f1-score   support\n",
      "\n",
      "           0       0.04      0.63      0.08       137\n",
      "           1       0.25      0.52      0.34      4000\n",
      "           2       0.89      0.60      0.72     35365\n",
      "           3       0.38      0.52      0.44      7114\n",
      "           4       0.04      0.61      0.08       202\n",
      "\n",
      "    accuracy                           0.58     46818\n",
      "   macro avg       0.32      0.58      0.33     46818\n",
      "weighted avg       0.76      0.58      0.64     46818\n",
      "\n"
     ]
    }
   ],
   "source": [
    "vectorizer = TfidfVectorizer()\n",
    "tfidf_text = vectorizer.fit_transform(X_train)\n",
    "#--Training the classifier with  Naive Bayes--\n",
    "nb = Pipeline([('tfidf', TfidfVectorizer()),\n",
    "               ('clf', MultinomialNB()),\n",
    "              ])\n",
    "nb.fit(X_train,y_train)\n",
    "test_predict = nb.predict(X_val)\n",
    "train_accuracy = round(nb.score(X_train,y_train)*100)\n",
    "test_accuracy =round(accuracy_score(test_predict, y_val)*100)\n",
    "print(\"Naive Bayes Train Accuracy Score : {}% \".format(train_accuracy ))\n",
    "print(\"Naive Bayes Test Accuracy Score  : {}% \".format(test_accuracy ))\n",
    "print()\n",
    "print(classification_report(test_predict, y_val))"
   ]
  },
  {
   "cell_type": "code",
   "execution_count": 67,
   "metadata": {},
   "outputs": [
    {
     "name": "stdout",
     "output_type": "stream",
     "text": [
      "SVM Train Accuracy Score : 57.0% \n",
      "SVM Test Accuracy Score  : 56.0% \n",
      "\n",
      "              precision    recall  f1-score   support\n",
      "\n",
      "           0       0.07      0.53      0.13       293\n",
      "           1       0.09      0.49      0.15      1486\n",
      "           2       0.96      0.56      0.71     40700\n",
      "           3       0.20      0.52      0.29      3773\n",
      "           4       0.11      0.56      0.19       566\n",
      "\n",
      "    accuracy                           0.56     46818\n",
      "   macro avg       0.29      0.53      0.29     46818\n",
      "weighted avg       0.86      0.56      0.65     46818\n",
      "\n"
     ]
    }
   ],
   "source": [
    "sgd = Pipeline([('tfidf', TfidfVectorizer()),\n",
    "                ('clf', SGDClassifier()),\n",
    "               ])\n",
    "#--Training the classifier with  SVM--\n",
    "sgd.fit(X_train, y_train)\n",
    "test_predict = sgd.predict(X_val)\n",
    "train_accuracy = round(sgd.score(X_train,y_train)*100)\n",
    "test_accuracy =round(accuracy_score(test_predict, y_val)*100)\n",
    "print(\"SVM Train Accuracy Score : {}% \".format(train_accuracy ))\n",
    "print(\"SVM Test Accuracy Score  : {}% \".format(test_accuracy ))\n",
    "print()\n",
    "print(classification_report(test_predict, y_val))"
   ]
  },
  {
   "cell_type": "code",
   "execution_count": 68,
   "metadata": {},
   "outputs": [
    {
     "name": "stdout",
     "output_type": "stream",
     "text": [
      "Decision Tree Train Accuracy Score : 88.0% \n",
      "Decision Tree Test Accuracy Score  : 61.0% \n",
      "\n",
      "              precision    recall  f1-score   support\n",
      "\n",
      "           0       0.42      0.40      0.41      2224\n",
      "           1       0.49      0.48      0.49      8319\n",
      "           2       0.75      0.72      0.73     25138\n",
      "           3       0.48      0.53      0.50      9054\n",
      "           4       0.36      0.47      0.41      2083\n",
      "\n",
      "    accuracy                           0.61     46818\n",
      "   macro avg       0.50      0.52      0.51     46818\n",
      "weighted avg       0.62      0.61      0.62     46818\n",
      "\n"
     ]
    }
   ],
   "source": [
    "dt = Pipeline([('tfidf', TfidfVectorizer()),\n",
    "                ('dt', DecisionTreeClassifier()),\n",
    "               ])\n",
    "#--Training the classifier with  Decision tree--\n",
    "dt.fit(X_train, y_train)\n",
    "test_predict = dt.predict(X_val)\n",
    "train_accuracy = round(dt.score(X_train,y_train)*100)\n",
    "test_accuracy =round(accuracy_score(test_predict, y_val)*100)\n",
    "print(\"Decision Tree Train Accuracy Score : {}% \".format(train_accuracy ))\n",
    "print(\"Decision Tree Test Accuracy Score  : {}% \".format(test_accuracy ))\n",
    "print()\n",
    "print(classification_report(test_predict, y_val))"
   ]
  },
  {
   "cell_type": "code",
   "execution_count": 74,
   "metadata": {},
   "outputs": [
    {
     "name": "stderr",
     "output_type": "stream",
     "text": [
      "100%|██████████| 66292/66292 [00:10<00:00, 6481.88it/s]\n"
     ]
    }
   ],
   "source": [
    "#preprocessing the test dataframe\n",
    "test_df['Phrase'] = sentence_cleaning(test_df)\n",
    "for i in tqdm(range(len(test_df))):\n",
    "    test_df['Phrase'][i] = (\" \").join(train_df_copy['Phrase'][i])"
   ]
  },
  {
   "cell_type": "code",
   "execution_count": 75,
   "metadata": {},
   "outputs": [
    {
     "name": "stderr",
     "output_type": "stream",
     "text": [
      "  0%|          | 0/66292 [00:00<?, ?it/s]/opt/anaconda3/lib/python3.7/site-packages/ipykernel_launcher.py:2: SettingWithCopyWarning: \n",
      "A value is trying to be set on a copy of a slice from a DataFrame\n",
      "\n",
      "See the caveats in the documentation: https://pandas.pydata.org/pandas-docs/stable/user_guide/indexing.html#returning-a-view-versus-a-copy\n",
      "  \n",
      "100%|██████████| 66292/66292 [03:34<00:00, 309.28it/s]\n"
     ]
    }
   ],
   "source": []
  },
  {
   "cell_type": "code",
   "execution_count": 76,
   "metadata": {},
   "outputs": [],
   "source": [
    "#applying the decision tree predict on it, because we have the highest predicting accuracy\n",
    "test_id = test_df['PhraseId']\n",
    "test_text = test_df['Phrase']\n",
    "y_prdict = dt.predict(test_text)"
   ]
  },
  {
   "cell_type": "code",
   "execution_count": 77,
   "metadata": {},
   "outputs": [
    {
     "data": {
      "text/html": [
       "<div>\n",
       "<style scoped>\n",
       "    .dataframe tbody tr th:only-of-type {\n",
       "        vertical-align: middle;\n",
       "    }\n",
       "\n",
       "    .dataframe tbody tr th {\n",
       "        vertical-align: top;\n",
       "    }\n",
       "\n",
       "    .dataframe thead th {\n",
       "        text-align: right;\n",
       "    }\n",
       "</style>\n",
       "<table border=\"1\" class=\"dataframe\">\n",
       "  <thead>\n",
       "    <tr style=\"text-align: right;\">\n",
       "      <th></th>\n",
       "      <th>PhraseId</th>\n",
       "      <th>Sentiment</th>\n",
       "    </tr>\n",
       "  </thead>\n",
       "  <tbody>\n",
       "    <tr>\n",
       "      <th>0</th>\n",
       "      <td>156061</td>\n",
       "      <td>2</td>\n",
       "    </tr>\n",
       "    <tr>\n",
       "      <th>1</th>\n",
       "      <td>156062</td>\n",
       "      <td>2</td>\n",
       "    </tr>\n",
       "    <tr>\n",
       "      <th>2</th>\n",
       "      <td>156063</td>\n",
       "      <td>2</td>\n",
       "    </tr>\n",
       "    <tr>\n",
       "      <th>3</th>\n",
       "      <td>156064</td>\n",
       "      <td>2</td>\n",
       "    </tr>\n",
       "    <tr>\n",
       "      <th>4</th>\n",
       "      <td>156065</td>\n",
       "      <td>2</td>\n",
       "    </tr>\n",
       "    <tr>\n",
       "      <th>5</th>\n",
       "      <td>156066</td>\n",
       "      <td>2</td>\n",
       "    </tr>\n",
       "    <tr>\n",
       "      <th>6</th>\n",
       "      <td>156067</td>\n",
       "      <td>2</td>\n",
       "    </tr>\n",
       "    <tr>\n",
       "      <th>7</th>\n",
       "      <td>156068</td>\n",
       "      <td>2</td>\n",
       "    </tr>\n",
       "    <tr>\n",
       "      <th>8</th>\n",
       "      <td>156069</td>\n",
       "      <td>2</td>\n",
       "    </tr>\n",
       "    <tr>\n",
       "      <th>9</th>\n",
       "      <td>156070</td>\n",
       "      <td>2</td>\n",
       "    </tr>\n",
       "    <tr>\n",
       "      <th>10</th>\n",
       "      <td>156071</td>\n",
       "      <td>2</td>\n",
       "    </tr>\n",
       "    <tr>\n",
       "      <th>11</th>\n",
       "      <td>156072</td>\n",
       "      <td>2</td>\n",
       "    </tr>\n",
       "    <tr>\n",
       "      <th>12</th>\n",
       "      <td>156073</td>\n",
       "      <td>2</td>\n",
       "    </tr>\n",
       "    <tr>\n",
       "      <th>13</th>\n",
       "      <td>156074</td>\n",
       "      <td>2</td>\n",
       "    </tr>\n",
       "    <tr>\n",
       "      <th>14</th>\n",
       "      <td>156075</td>\n",
       "      <td>2</td>\n",
       "    </tr>\n",
       "    <tr>\n",
       "      <th>15</th>\n",
       "      <td>156076</td>\n",
       "      <td>2</td>\n",
       "    </tr>\n",
       "    <tr>\n",
       "      <th>16</th>\n",
       "      <td>156077</td>\n",
       "      <td>2</td>\n",
       "    </tr>\n",
       "    <tr>\n",
       "      <th>17</th>\n",
       "      <td>156078</td>\n",
       "      <td>2</td>\n",
       "    </tr>\n",
       "    <tr>\n",
       "      <th>18</th>\n",
       "      <td>156079</td>\n",
       "      <td>2</td>\n",
       "    </tr>\n",
       "    <tr>\n",
       "      <th>19</th>\n",
       "      <td>156080</td>\n",
       "      <td>2</td>\n",
       "    </tr>\n",
       "  </tbody>\n",
       "</table>\n",
       "</div>"
      ],
      "text/plain": [
       "    PhraseId  Sentiment\n",
       "0     156061          2\n",
       "1     156062          2\n",
       "2     156063          2\n",
       "3     156064          2\n",
       "4     156065          2\n",
       "5     156066          2\n",
       "6     156067          2\n",
       "7     156068          2\n",
       "8     156069          2\n",
       "9     156070          2\n",
       "10    156071          2\n",
       "11    156072          2\n",
       "12    156073          2\n",
       "13    156074          2\n",
       "14    156075          2\n",
       "15    156076          2\n",
       "16    156077          2\n",
       "17    156078          2\n",
       "18    156079          2\n",
       "19    156080          2"
      ]
     },
     "execution_count": 77,
     "metadata": {},
     "output_type": "execute_result"
    }
   ],
   "source": [
    "#creating the submission frame that we have to submit\n",
    "submission = pd.DataFrame(list(zip(test_id, y_prdict)),\n",
    "               columns =['PhraseId', 'Sentiment'])\n",
    "submission.head(20)"
   ]
  },
  {
   "cell_type": "code",
   "execution_count": 78,
   "metadata": {},
   "outputs": [],
   "source": [
    "#exporting the frame\n",
    "submission.to_csv('submission.csv', index=False)"
   ]
  },
  {
   "cell_type": "code",
   "execution_count": null,
   "metadata": {},
   "outputs": [],
   "source": []
  }
 ],
 "metadata": {
  "kernelspec": {
   "display_name": "Python 3",
   "language": "python",
   "name": "python3"
  },
  "language_info": {
   "codemirror_mode": {
    "name": "ipython",
    "version": 3
   },
   "file_extension": ".py",
   "mimetype": "text/x-python",
   "name": "python",
   "nbconvert_exporter": "python",
   "pygments_lexer": "ipython3",
   "version": "3.7.4"
  }
 },
 "nbformat": 4,
 "nbformat_minor": 2
}
